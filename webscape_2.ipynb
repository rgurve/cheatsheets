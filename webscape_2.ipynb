{
  "nbformat": 4,
  "nbformat_minor": 0,
  "metadata": {
    "colab": {
      "name": "webscape-2",
      "provenance": [],
      "authorship_tag": "ABX9TyOccOCRCp3upKB7WG5dMfD3",
      "include_colab_link": true
    },
    "kernelspec": {
      "name": "python3",
      "display_name": "Python 3"
    },
    "accelerator": "GPU"
  },
  "cells": [
    {
      "cell_type": "markdown",
      "metadata": {
        "id": "view-in-github",
        "colab_type": "text"
      },
      "source": [
        "<a href=\"https://colab.research.google.com/github/rgurve/cheatsheets/blob/master/webscape_2.ipynb\" target=\"_parent\"><img src=\"https://colab.research.google.com/assets/colab-badge.svg\" alt=\"Open In Colab\"/></a>"
      ]
    },
    {
      "cell_type": "code",
      "metadata": {
        "id": "L5hYUsI_Y5E5"
      },
      "source": [
        "import urllib.request\n",
        "from bs4 import BeautifulSoup\n",
        "\n",
        "\n",
        "class Scraper:\n",
        "    def __init__(self, site):\n",
        "        self.site = site"
      ],
      "execution_count": 1,
      "outputs": []
    },
    {
      "cell_type": "markdown",
      "metadata": {
        "id": "Xu_RV632ZuMl"
      },
      "source": [
        "The __init__ method uses a website to extract as a parameter. Later we will pass “https://news.google.com/” as a parameter. The Scraper class has a method called scrape that we will call whenever we want to retrieve data from the site you passed.\n",
        "\n"
      ]
    },
    {
      "cell_type": "code",
      "metadata": {
        "id": "bfk6ZoelZBGL"
      },
      "source": [
        " def scrape(self):\n",
        "        r = urllib.request.urlopen(self.site)\n",
        "        html = r.read()"
      ],
      "execution_count": 2,
      "outputs": []
    },
    {
      "cell_type": "markdown",
      "metadata": {
        "id": "ztX0H53vZ80X"
      },
      "source": [
        "The urlopen () function sends a request to a website and returns a Response object in which its HTML code is stored, along with additional data. The response of the function. read () returns the HTML of the Response object. All the HTML for the website is in the html variable.\n",
        "\n"
      ]
    },
    {
      "cell_type": "code",
      "metadata": {
        "id": "iwIOb0bbZGw2"
      },
      "source": [
        " def scrape(self):\n",
        "        r = urllib.request.urlopen(self.site)\n",
        "        html = r.read()\n",
        "        parser = \"html.parser\"\n",
        "        sp = BeautifulSoup(html,parser)"
      ],
      "execution_count": 3,
      "outputs": []
    },
    {
      "cell_type": "markdown",
      "metadata": {
        "id": "XpcDCyiDaYFA"
      },
      "source": [
        "The BeautifulSoup object does all the hard work and parses the HTML. We can now add code to the scrape function that calls the find_all method on the BeautifulSoup object."
      ]
    },
    {
      "cell_type": "markdown",
      "metadata": {
        "id": "_gyf-ZGvawZ3"
      },
      "source": [
        "Pass “a” as the parameter and the method will return all the URLs the website is linked to in the HTML code you downloaded:"
      ]
    },
    {
      "cell_type": "code",
      "metadata": {
        "id": "fsJ-p0zPZOZ0"
      },
      "source": [
        "def scrape(self):\n",
        "        r = urllib.request.urlopen(self.site)\n",
        "        html = r.read()\n",
        "        parser = \"html.parser\"\n",
        "        sp = BeautifulSoup(html,parser)\n",
        "        for tag in sp.find_all(\"a\"):\n",
        "            url = tag.get(\"href\")\n",
        "            if url is None:\n",
        "                continue\n",
        "            if \"articles\" in url:\n",
        "                print(\"\\n\" + url)"
      ],
      "execution_count": 4,
      "outputs": []
    },
    {
      "cell_type": "markdown",
      "metadata": {
        "id": "OAH2YLcJbCF1"
      },
      "source": [
        "The find_all method returns an iterable containing the tag objects found. Each time around the for loop, the variable receives the value of a new Tag object. Each Tag object has many different instance variables, but you just want the value of the href instance variable, which contains each URL.\n",
        "\n",
        "You can get it by calling the get method and passing “href” as a parameter. Finally, you verify that the URL variable contains data; that it contains the string “articles” (you don’t want to print internal links); and if so, you print it. Here is the full web scraper:"
      ]
    },
    {
      "cell_type": "code",
      "metadata": {
        "id": "aoefzEPza2_8",
        "outputId": "2d2899e4-4197-4b25-a75e-c0416898dbe9",
        "colab": {
          "base_uri": "https://localhost:8080/",
          "height": 1000
        }
      },
      "source": [
        "import urllib.request\n",
        "from bs4 import BeautifulSoup\n",
        "\n",
        "\n",
        "class Scraper:\n",
        "    def __init__(self, site):\n",
        "        self.site = site\n",
        "\n",
        "    def scrape(self):\n",
        "        r = urllib.request.urlopen(self.site)\n",
        "        html = r.read()\n",
        "        parser = \"html.parser\"\n",
        "        sp = BeautifulSoup(html,parser)\n",
        "        for tag in sp.find_all(\"a\"):\n",
        "            url = tag.get(\"href\")\n",
        "            if url is None:\n",
        "                continue\n",
        "            if \"articles\" in url:\n",
        "                print(\"\\n\" + url)\n",
        "\n",
        "news = \"https://news.google.com/\"\n",
        "Scraper(news).scrape()"
      ],
      "execution_count": 5,
      "outputs": [
        {
          "output_type": "stream",
          "text": [
            "\n",
            "./articles/CAIiELo-B8aByZERJBvJuggXKxcqGQgEKhAIACoHCAowocv1CjCSptoCMPrTpgU?hl=en-US&gl=US&ceid=US%3Aen\n",
            "\n",
            "./articles/CAIiELo-B8aByZERJBvJuggXKxcqGQgEKhAIACoHCAowocv1CjCSptoCMPrTpgU?hl=en-US&gl=US&ceid=US%3Aen\n",
            "\n",
            "./articles/CAIiELo-B8aByZERJBvJuggXKxcqGQgEKhAIACoHCAowocv1CjCSptoCMPrTpgU?hl=en-US&gl=US&ceid=US%3Aen\n",
            "\n",
            "./articles/CAIiEA4bLrFQnG11xLQVwc917PEqGQgEKhAIACoHCAowwL2ICzCckocDMMaPqQY?hl=en-US&gl=US&ceid=US%3Aen\n",
            "\n",
            "./articles/CAIiEA4bLrFQnG11xLQVwc917PEqGQgEKhAIACoHCAowwL2ICzCckocDMMaPqQY?hl=en-US&gl=US&ceid=US%3Aen\n",
            "\n",
            "./articles/CAIiEI5ip6WMCGNGOrQXQNxsnxYqGQgEKhAIACoHCAowocv1CjCSptoCMPrTpgU?hl=en-US&gl=US&ceid=US%3Aen\n",
            "\n",
            "./articles/CAIiEI5ip6WMCGNGOrQXQNxsnxYqGQgEKhAIACoHCAowocv1CjCSptoCMPrTpgU?hl=en-US&gl=US&ceid=US%3Aen\n",
            "\n",
            "./articles/CBMiYWh0dHBzOi8vdGhlaGlsbC5jb20vaG9tZW5ld3MvdGhlLW1lbW8vNTIyNTQ5LXRoZS1tZW1vLWZpdmUtcmVhc29ucy13aHktdHJ1bXAtY291bGQtdXBzZXQtdGhlLW9kZHPSAWVodHRwczovL3RoZWhpbGwuY29tL2hvbWVuZXdzL3RoZS1tZW1vLzUyMjU0OS10aGUtbWVtby1maXZlLXJlYXNvbnMtd2h5LXRydW1wLWNvdWxkLXVwc2V0LXRoZS1vZGRzP2FtcA?hl=en-US&gl=US&ceid=US%3Aen\n",
            "\n",
            "./articles/CBMiYWh0dHBzOi8vdGhlaGlsbC5jb20vaG9tZW5ld3MvdGhlLW1lbW8vNTIyNTQ5LXRoZS1tZW1vLWZpdmUtcmVhc29ucy13aHktdHJ1bXAtY291bGQtdXBzZXQtdGhlLW9kZHPSAWVodHRwczovL3RoZWhpbGwuY29tL2hvbWVuZXdzL3RoZS1tZW1vLzUyMjU0OS10aGUtbWVtby1maXZlLXJlYXNvbnMtd2h5LXRydW1wLWNvdWxkLXVwc2V0LXRoZS1vZGRzP2FtcA?hl=en-US&gl=US&ceid=US%3Aen\n",
            "\n",
            "./articles/CAIiEMIOSuvizdWq8kEURYznD-0qGAgEKg8IACoHCAowhK-LAjD4ySww7NG0BQ?hl=en-US&gl=US&ceid=US%3Aen\n",
            "\n",
            "./articles/CAIiEMIOSuvizdWq8kEURYznD-0qGAgEKg8IACoHCAowhK-LAjD4ySww7NG0BQ?hl=en-US&gl=US&ceid=US%3Aen\n",
            "\n",
            "./articles/CAIiEJ9wORgkekg9qFFF11rPC08qFggEKg4IACoGCAow9vBNMK3UCDCvpUk?hl=en-US&gl=US&ceid=US%3Aen\n",
            "\n",
            "./articles/CAIiEJ9wORgkekg9qFFF11rPC08qFggEKg4IACoGCAow9vBNMK3UCDCvpUk?hl=en-US&gl=US&ceid=US%3Aen\n",
            "\n",
            "./articles/CAIiEJ9wORgkekg9qFFF11rPC08qFggEKg4IACoGCAow9vBNMK3UCDCvpUk?hl=en-US&gl=US&ceid=US%3Aen\n",
            "\n",
            "./articles/CAIiEAet36U9mD8j76oqREtCKcIqGQgEKhAIACoHCAowocv1CjCSptoCMPrTpgU?hl=en-US&gl=US&ceid=US%3Aen\n",
            "\n",
            "./articles/CAIiEAet36U9mD8j76oqREtCKcIqGQgEKhAIACoHCAowocv1CjCSptoCMPrTpgU?hl=en-US&gl=US&ceid=US%3Aen\n",
            "\n",
            "./articles/CAIiEN6ucbqYWoHIVTWMsnR1BSEqGQgEKhAIACoHCAowocv1CjCSptoCMPrTpgU?hl=en-US&gl=US&ceid=US%3Aen\n",
            "\n",
            "./articles/CAIiEN6ucbqYWoHIVTWMsnR1BSEqGQgEKhAIACoHCAowocv1CjCSptoCMPrTpgU?hl=en-US&gl=US&ceid=US%3Aen\n",
            "\n",
            "./articles/CBMiaWh0dHBzOi8vdGhlaGlsbC5jb20vb3Bpbmlvbi9qdWRpY2lhcnkvNTIyNjc0LWFteS1jb25leS1iYXJyZXR0LXNob3VsZC1zdGVwLWFzaWRlLWlmLXNoZS1jYW50LWJlLWltcGFydGlhbNIBbWh0dHBzOi8vdGhlaGlsbC5jb20vb3Bpbmlvbi9qdWRpY2lhcnkvNTIyNjc0LWFteS1jb25leS1iYXJyZXR0LXNob3VsZC1zdGVwLWFzaWRlLWlmLXNoZS1jYW50LWJlLWltcGFydGlhbD9hbXA?hl=en-US&gl=US&ceid=US%3Aen\n",
            "\n",
            "./articles/CBMiaWh0dHBzOi8vdGhlaGlsbC5jb20vb3Bpbmlvbi9qdWRpY2lhcnkvNTIyNjc0LWFteS1jb25leS1iYXJyZXR0LXNob3VsZC1zdGVwLWFzaWRlLWlmLXNoZS1jYW50LWJlLWltcGFydGlhbNIBbWh0dHBzOi8vdGhlaGlsbC5jb20vb3Bpbmlvbi9qdWRpY2lhcnkvNTIyNjc0LWFteS1jb25leS1iYXJyZXR0LXNob3VsZC1zdGVwLWFzaWRlLWlmLXNoZS1jYW50LWJlLWltcGFydGlhbD9hbXA?hl=en-US&gl=US&ceid=US%3Aen\n",
            "\n",
            "./articles/CAIiEPuEquiVqKlyPOE_8TWBEuAqFwgEKg8IACoHCAowjuuKAzCWrzwwt4QY?hl=en-US&gl=US&ceid=US%3Aen\n",
            "\n",
            "./articles/CAIiEPuEquiVqKlyPOE_8TWBEuAqFwgEKg8IACoHCAowjuuKAzCWrzwwt4QY?hl=en-US&gl=US&ceid=US%3Aen\n",
            "\n",
            "./articles/CAIiEFgbUftYH00syHhnguTgpfsqGQgEKhAIACoHCAow4Zn5CjCu8uACMLTRlgY?hl=en-US&gl=US&ceid=US%3Aen\n",
            "\n",
            "./articles/CAIiEFgbUftYH00syHhnguTgpfsqGQgEKhAIACoHCAow4Zn5CjCu8uACMLTRlgY?hl=en-US&gl=US&ceid=US%3Aen\n",
            "\n",
            "./articles/CAIiEFgbUftYH00syHhnguTgpfsqGQgEKhAIACoHCAow4Zn5CjCu8uACMLTRlgY?hl=en-US&gl=US&ceid=US%3Aen\n",
            "\n",
            "./articles/CCAiC3ROOVQ3M0dXYW0wmAEB?hl=en-US&gl=US&ceid=US%3Aen\n",
            "\n",
            "./articles/CCAiC3ROOVQ3M0dXYW0wmAEB?hl=en-US&gl=US&ceid=US%3Aen\n",
            "\n",
            "./articles/CBMiRWh0dHBzOi8vbmV3cy55YWhvby5jb20vd2VyZS1ub3QtZ29pbmctY29udHJvbC1wYW5kZW1pYy0xNzE4NTUxNTAuaHRtbNIBTWh0dHBzOi8vbmV3cy55YWhvby5jb20vYW1waHRtbC93ZXJlLW5vdC1nb2luZy1jb250cm9sLXBhbmRlbWljLTE3MTg1NTE1MC5odG1s?hl=en-US&gl=US&ceid=US%3Aen\n",
            "\n",
            "./articles/CBMiRWh0dHBzOi8vbmV3cy55YWhvby5jb20vd2VyZS1ub3QtZ29pbmctY29udHJvbC1wYW5kZW1pYy0xNzE4NTUxNTAuaHRtbNIBTWh0dHBzOi8vbmV3cy55YWhvby5jb20vYW1waHRtbC93ZXJlLW5vdC1nb2luZy1jb250cm9sLXBhbmRlbWljLTE3MTg1NTE1MC5odG1s?hl=en-US&gl=US&ceid=US%3Aen\n",
            "\n",
            "./articles/CAIiEF9jo4HsioBSM-R7EoWojmIqFwgEKg8IACoHCAowjuuKAzCWrzwwt4QY?hl=en-US&gl=US&ceid=US%3Aen\n",
            "\n",
            "./articles/CAIiEF9jo4HsioBSM-R7EoWojmIqFwgEKg8IACoHCAowjuuKAzCWrzwwt4QY?hl=en-US&gl=US&ceid=US%3Aen\n",
            "\n",
            "./articles/CAIiEHDkzObws0QUikzkiRdY64MqGQgEKhAIACoHCAowocv1CjCSptoCMJrUpgU?hl=en-US&gl=US&ceid=US%3Aen\n",
            "\n",
            "./articles/CAIiEHDkzObws0QUikzkiRdY64MqGQgEKhAIACoHCAowocv1CjCSptoCMJrUpgU?hl=en-US&gl=US&ceid=US%3Aen\n",
            "\n",
            "./articles/CAIiEMy0sZGd4mNJzokw5ltoRxAqGQgEKhAIACoHCAowvIaCCzDnxf4CMP2F8gU?hl=en-US&gl=US&ceid=US%3Aen\n",
            "\n",
            "./articles/CAIiEMy0sZGd4mNJzokw5ltoRxAqGQgEKhAIACoHCAowvIaCCzDnxf4CMP2F8gU?hl=en-US&gl=US&ceid=US%3Aen\n",
            "\n",
            "./articles/CAIiEMy0sZGd4mNJzokw5ltoRxAqGQgEKhAIACoHCAowvIaCCzDnxf4CMP2F8gU?hl=en-US&gl=US&ceid=US%3Aen\n",
            "\n",
            "./articles/CAIiEEdstjfGVntn-Hpd5L88OR8qFwgEKg8IACoHCAowjuuKAzCWrzww9oEY?hl=en-US&gl=US&ceid=US%3Aen\n",
            "\n",
            "./articles/CAIiEEdstjfGVntn-Hpd5L88OR8qFwgEKg8IACoHCAowjuuKAzCWrzww9oEY?hl=en-US&gl=US&ceid=US%3Aen\n",
            "\n",
            "./articles/CCAiC3Rka2VMcWIzS2lzmAEB?hl=en-US&gl=US&ceid=US%3Aen\n",
            "\n",
            "./articles/CCAiC3Rka2VMcWIzS2lzmAEB?hl=en-US&gl=US&ceid=US%3Aen\n",
            "\n",
            "./articles/CAIiEN5cbFRk_gswwqqRR3Xvfu0qFwgEKg8IACoHCAowhO7OATDh9Cgwv7tQ?hl=en-US&gl=US&ceid=US%3Aen\n",
            "\n",
            "./articles/CAIiEN5cbFRk_gswwqqRR3Xvfu0qFwgEKg8IACoHCAowhO7OATDh9Cgwv7tQ?hl=en-US&gl=US&ceid=US%3Aen\n",
            "\n",
            "./articles/CAIiEA2oYXopphGpexftlWlpJpIqGQgEKhAIACoHCAowocv1CjCSptoCMPrTpgU?hl=en-US&gl=US&ceid=US%3Aen\n",
            "\n",
            "./articles/CAIiEA2oYXopphGpexftlWlpJpIqGQgEKhAIACoHCAowocv1CjCSptoCMPrTpgU?hl=en-US&gl=US&ceid=US%3Aen\n",
            "\n",
            "./articles/CAIiEMdlolCFKd74wxvl9mVdR4UqGAgEKg8IACoHCAowjtSUCjC30XQw36e5AQ?hl=en-US&gl=US&ceid=US%3Aen\n",
            "\n",
            "./articles/CAIiEMdlolCFKd74wxvl9mVdR4UqGAgEKg8IACoHCAowjtSUCjC30XQw36e5AQ?hl=en-US&gl=US&ceid=US%3Aen\n",
            "\n",
            "./articles/CAIiEMdlolCFKd74wxvl9mVdR4UqGAgEKg8IACoHCAowjtSUCjC30XQw36e5AQ?hl=en-US&gl=US&ceid=US%3Aen\n",
            "\n",
            "./articles/CAIiEP8xJ_-kbK7iDgC5tHsTYdcqGQgEKhAIACoHCAowwL2ICzCckocDMMaPqQY?hl=en-US&gl=US&ceid=US%3Aen\n",
            "\n",
            "./articles/CAIiEP8xJ_-kbK7iDgC5tHsTYdcqGQgEKhAIACoHCAowwL2ICzCckocDMMaPqQY?hl=en-US&gl=US&ceid=US%3Aen\n",
            "\n",
            "./articles/CAIiEMzSw34UgFtVBuXelrN2sfMqLggEKiUIACIbd3d3LmJ1c2luZXNzaW5zaWRlci5jb20vc2FpKgQICjAMMJzw5wE?hl=en-US&gl=US&ceid=US%3Aen\n",
            "\n",
            "./articles/CAIiEMzSw34UgFtVBuXelrN2sfMqLggEKiUIACIbd3d3LmJ1c2luZXNzaW5zaWRlci5jb20vc2FpKgQICjAMMJzw5wE?hl=en-US&gl=US&ceid=US%3Aen\n",
            "\n",
            "./articles/CAIiEOonZCckMwFQx2SaRsTRvNMqGAgEKg8IACoHCAowjtSUCjC30XQw_qe5AQ?hl=en-US&gl=US&ceid=US%3Aen\n",
            "\n",
            "./articles/CAIiEOonZCckMwFQx2SaRsTRvNMqGAgEKg8IACoHCAowjtSUCjC30XQw_qe5AQ?hl=en-US&gl=US&ceid=US%3Aen\n",
            "\n",
            "./articles/CAIiEDE3PEWC4zLCOufN4o2_WTcqGQgEKhAIACoHCAowocv1CjCSptoCMJrUpgU?hl=en-US&gl=US&ceid=US%3Aen\n",
            "\n",
            "./articles/CAIiEDE3PEWC4zLCOufN4o2_WTcqGQgEKhAIACoHCAowocv1CjCSptoCMJrUpgU?hl=en-US&gl=US&ceid=US%3Aen\n",
            "\n",
            "./articles/CAIiEDum8HYxeO8-8q9gHlETXscqGQgEKhAIACoHCAowzqT_CjCltPgCMIG_ngY?hl=en-US&gl=US&ceid=US%3Aen\n",
            "\n",
            "./articles/CAIiEDum8HYxeO8-8q9gHlETXscqGQgEKhAIACoHCAowzqT_CjCltPgCMIG_ngY?hl=en-US&gl=US&ceid=US%3Aen\n",
            "\n",
            "./articles/CAIiEDum8HYxeO8-8q9gHlETXscqGQgEKhAIACoHCAowzqT_CjCltPgCMIG_ngY?hl=en-US&gl=US&ceid=US%3Aen\n",
            "\n",
            "./articles/CAIiEO_F6kJk_z_fMsMwz6iIvEcqGQgEKhAIACoHCAow3qT_CjC1tPgCMLS-nwY?hl=en-US&gl=US&ceid=US%3Aen\n",
            "\n",
            "./articles/CAIiEO_F6kJk_z_fMsMwz6iIvEcqGQgEKhAIACoHCAow3qT_CjC1tPgCMLS-nwY?hl=en-US&gl=US&ceid=US%3Aen\n",
            "\n",
            "./articles/CBMitAFodHRwczovL3d3dy5kaXNwYXRjaC5jb20vc3RvcnkvbmV3cy9wb2xpdGljcy9lbGVjdGlvbnMvcHJlc2lkZW50aWFsLzIwMjAvMTAvMjQvb2hpby11cy1zZXQtY292aWQtcmVjb3JkLWRvbmFsZC10cnVtcC12aXNpdHMtY291bnR5LWZhaXJncm91bmRzLWxpbmtlZC0yMi1jYXNlcy1qb2UtYmlkZW4vMzczNDcxOTAwMS_SASdodHRwczovL2FtcC5kaXNwYXRjaC5jb20vYW1wLzM3MzQ3MTkwMDE?hl=en-US&gl=US&ceid=US%3Aen\n",
            "\n",
            "./articles/CBMitAFodHRwczovL3d3dy5kaXNwYXRjaC5jb20vc3RvcnkvbmV3cy9wb2xpdGljcy9lbGVjdGlvbnMvcHJlc2lkZW50aWFsLzIwMjAvMTAvMjQvb2hpby11cy1zZXQtY292aWQtcmVjb3JkLWRvbmFsZC10cnVtcC12aXNpdHMtY291bnR5LWZhaXJncm91bmRzLWxpbmtlZC0yMi1jYXNlcy1qb2UtYmlkZW4vMzczNDcxOTAwMS_SASdodHRwczovL2FtcC5kaXNwYXRjaC5jb20vYW1wLzM3MzQ3MTkwMDE?hl=en-US&gl=US&ceid=US%3Aen\n",
            "\n",
            "./articles/CBMiW2h0dHBzOi8vd3d3LndrYm4uY29tL25ld3MvbGl2ZS1haXItZm9yY2Utb25lLWxhbmRzLWFzLXRydW1wLW1ha2VzLXdheS10by1jaXJjbGV2aWxsZS1yYWxseS_SAWRodHRwczovL3d3dy53a2JuLmNvbS9uZXdzL29oaW8vbGl2ZS1haXItZm9yY2Utb25lLWxhbmRzLWFzLXRydW1wLW1ha2VzLXdheS10by1jaXJjbGV2aWxsZS1yYWxseS9hbXAv?hl=en-US&gl=US&ceid=US%3Aen\n",
            "\n",
            "./articles/CBMiW2h0dHBzOi8vd3d3LndrYm4uY29tL25ld3MvbGl2ZS1haXItZm9yY2Utb25lLWxhbmRzLWFzLXRydW1wLW1ha2VzLXdheS10by1jaXJjbGV2aWxsZS1yYWxseS_SAWRodHRwczovL3d3dy53a2JuLmNvbS9uZXdzL29oaW8vbGl2ZS1haXItZm9yY2Utb25lLWxhbmRzLWFzLXRydW1wLW1ha2VzLXdheS10by1jaXJjbGV2aWxsZS1yYWxseS9hbXAv?hl=en-US&gl=US&ceid=US%3Aen\n",
            "\n",
            "./articles/CBMihwFodHRwczovL3d3dy4xM3dtYXouY29tL2FydGljbGUvbmV3cy9wb2xpdGljcy9lbGVjdGlvbnMvam9lLWJpZGVuLWF0bGFudGEtZ2VvcmdpYS1jYW1wYWlnbi1zdG9wcy84NS1iM2Q5OWYxZC0wYmU3LTRiNTQtODMwOC1lMTNmM2Y0NGZjMTjSAYsBaHR0cHM6Ly93d3cuMTN3bWF6LmNvbS9hbXAvYXJ0aWNsZS9uZXdzL3BvbGl0aWNzL2VsZWN0aW9ucy9qb2UtYmlkZW4tYXRsYW50YS1nZW9yZ2lhLWNhbXBhaWduLXN0b3BzLzg1LWIzZDk5ZjFkLTBiZTctNGI1NC04MzA4LWUxM2YzZjQ0ZmMxOA?hl=en-US&gl=US&ceid=US%3Aen\n",
            "\n",
            "./articles/CBMihwFodHRwczovL3d3dy4xM3dtYXouY29tL2FydGljbGUvbmV3cy9wb2xpdGljcy9lbGVjdGlvbnMvam9lLWJpZGVuLWF0bGFudGEtZ2VvcmdpYS1jYW1wYWlnbi1zdG9wcy84NS1iM2Q5OWYxZC0wYmU3LTRiNTQtODMwOC1lMTNmM2Y0NGZjMTjSAYsBaHR0cHM6Ly93d3cuMTN3bWF6LmNvbS9hbXAvYXJ0aWNsZS9uZXdzL3BvbGl0aWNzL2VsZWN0aW9ucy9qb2UtYmlkZW4tYXRsYW50YS1nZW9yZ2lhLWNhbXBhaWduLXN0b3BzLzg1LWIzZDk5ZjFkLTBiZTctNGI1NC04MzA4LWUxM2YzZjQ0ZmMxOA?hl=en-US&gl=US&ceid=US%3Aen\n",
            "\n",
            "./articles/CBMicmh0dHBzOi8vd3d3LnBvbGl0aWZhY3QuY29tL2ZhY3RjaGVja3MvMjAyMC9vY3QvMjMvZG9uYWxkLXRydW1wL25vLWZpZ2h0LWFnYWluc3QtY29yb25hdmlydXMtaXNudC1yb3VuZGluZy1jb3JuZXItL9IBAA?hl=en-US&gl=US&ceid=US%3Aen\n",
            "\n",
            "./articles/CBMicmh0dHBzOi8vd3d3LnBvbGl0aWZhY3QuY29tL2ZhY3RjaGVja3MvMjAyMC9vY3QvMjMvZG9uYWxkLXRydW1wL25vLWZpZ2h0LWFnYWluc3QtY29yb25hdmlydXMtaXNudC1yb3VuZGluZy1jb3JuZXItL9IBAA?hl=en-US&gl=US&ceid=US%3Aen\n",
            "\n",
            "./articles/CBMiN2h0dHBzOi8vd3d3LmZhY3RjaGVjay5vcmcvMjAyMC8xMC90cnVtcC1vbi10aGUtc3R1bXAtMi_SAQA?hl=en-US&gl=US&ceid=US%3Aen\n",
            "\n",
            "./articles/CBMiN2h0dHBzOi8vd3d3LmZhY3RjaGVjay5vcmcvMjAyMC8xMC90cnVtcC1vbi10aGUtc3R1bXAtMi_SAQA?hl=en-US&gl=US&ceid=US%3Aen\n",
            "\n",
            "./articles/CBMiYmh0dHBzOi8vd3d3LnBvbGl0aWZhY3QuY29tL2FydGljbGUvMjAyMC9vY3QvMjMvZmFjdC1jaGVja2luZy1kb25hbGQtdHJ1bXAtam9lLWJpZGVuLWZpbmFsLXByZXNpZGUv0gEA?hl=en-US&gl=US&ceid=US%3Aen\n",
            "\n",
            "./articles/CBMiYmh0dHBzOi8vd3d3LnBvbGl0aWZhY3QuY29tL2FydGljbGUvMjAyMC9vY3QvMjMvZmFjdC1jaGVja2luZy1kb25hbGQtdHJ1bXAtam9lLWJpZGVuLWZpbmFsLXByZXNpZGUv0gEA?hl=en-US&gl=US&ceid=US%3Aen\n",
            "\n",
            "./articles/CBMiY2h0dHBzOi8vd3d3LmZhY3RjaGVjay5vcmcvMjAyMC8xMC9kb2N0b3JzLWluLXZpZGVvLWZhbHNlbHktZXF1YXRlLWNvdmlkLTE5LXdpdGgtYS1ub3JtYWwtZmx1LXZpcnVzL9IBAA?hl=en-US&gl=US&ceid=US%3Aen\n",
            "\n",
            "./articles/CBMiY2h0dHBzOi8vd3d3LmZhY3RjaGVjay5vcmcvMjAyMC8xMC9kb2N0b3JzLWluLXZpZGVvLWZhbHNlbHktZXF1YXRlLWNvdmlkLTE5LXdpdGgtYS1ub3JtYWwtZmx1LXZpcnVzL9IBAA?hl=en-US&gl=US&ceid=US%3Aen\n",
            "\n",
            "./articles/CBMibGh0dHBzOi8vd3d3LnBvbGl0aWZhY3QuY29tL2ZhY3RjaGVja3MvMjAyMC9vY3QvMjUvZmFjZWJvb2stcG9zdHMvbm8tdHJ1bXAtZGlkLW5vdC12b3RlLXR3aWNlLW5vdi0zLWVsZWN0aW9uL9IBAA?hl=en-US&gl=US&ceid=US%3Aen\n",
            "\n",
            "./articles/CBMibGh0dHBzOi8vd3d3LnBvbGl0aWZhY3QuY29tL2ZhY3RjaGVja3MvMjAyMC9vY3QvMjUvZmFjZWJvb2stcG9zdHMvbm8tdHJ1bXAtZGlkLW5vdC12b3RlLXR3aWNlLW5vdi0zLWVsZWN0aW9uL9IBAA?hl=en-US&gl=US&ceid=US%3Aen\n",
            "\n",
            "./articles/CAIiEF9hE8NVXqQNLsNzmqnCYnkqGQgEKhAIACoHCAowjMqjCjCJhZwBMKHUywM?hl=en-US&gl=US&ceid=US%3Aen\n",
            "\n",
            "./articles/CAIiEF9hE8NVXqQNLsNzmqnCYnkqGQgEKhAIACoHCAowjMqjCjCJhZwBMKHUywM?hl=en-US&gl=US&ceid=US%3Aen\n",
            "\n",
            "./articles/CBMiPmh0dHBzOi8vd3d3LndpcmVkLmNvbS9zdG9yeS9mb3J0bml0ZS1kYWQtdmlkZW8tZ2FtZS1wYXJlbnRpbmcv0gFBaHR0cHM6Ly93d3cud2lyZWQuY29tL3N0b3J5L2ZvcnRuaXRlLWRhZC12aWRlby1nYW1lLXBhcmVudGluZy9hbXA?hl=en-US&gl=US&ceid=US%3Aen\n",
            "\n",
            "./articles/CBMiPmh0dHBzOi8vd3d3LndpcmVkLmNvbS9zdG9yeS9mb3J0bml0ZS1kYWQtdmlkZW8tZ2FtZS1wYXJlbnRpbmcv0gFBaHR0cHM6Ly93d3cud2lyZWQuY29tL3N0b3J5L2ZvcnRuaXRlLWRhZC12aWRlby1nYW1lLXBhcmVudGluZy9hbXA?hl=en-US&gl=US&ceid=US%3Aen\n",
            "\n",
            "./articles/CBMiamh0dHBzOi8vd3d3LnRoZWd1YXJkaWFuLmNvbS91cy1uZXdzLzIwMjAvb2N0LzE5L3doaXRlLXN1cHJlbWFjaXN0LWRvbWVzdGljLXRlcnJvci10aHJlYXQtbG9vbXMtbGFyZ2UtaW4tdXPSAWpodHRwczovL2FtcC50aGVndWFyZGlhbi5jb20vdXMtbmV3cy8yMDIwL29jdC8xOS93aGl0ZS1zdXByZW1hY2lzdC1kb21lc3RpYy10ZXJyb3ItdGhyZWF0LWxvb21zLWxhcmdlLWluLXVz?hl=en-US&gl=US&ceid=US%3Aen\n",
            "\n",
            "./articles/CBMiamh0dHBzOi8vd3d3LnRoZWd1YXJkaWFuLmNvbS91cy1uZXdzLzIwMjAvb2N0LzE5L3doaXRlLXN1cHJlbWFjaXN0LWRvbWVzdGljLXRlcnJvci10aHJlYXQtbG9vbXMtbGFyZ2UtaW4tdXPSAWpodHRwczovL2FtcC50aGVndWFyZGlhbi5jb20vdXMtbmV3cy8yMDIwL29jdC8xOS93aGl0ZS1zdXByZW1hY2lzdC1kb21lc3RpYy10ZXJyb3ItdGhyZWF0LWxvb21zLWxhcmdlLWluLXVz?hl=en-US&gl=US&ceid=US%3Aen\n",
            "\n",
            "./articles/CAIiEHI-2cbL-2eRVAYndRk31OcqFQgEKg0IACoGCAowrqkBMKBFMMGBAg?hl=en-US&gl=US&ceid=US%3Aen\n",
            "\n",
            "./articles/CAIiEHI-2cbL-2eRVAYndRk31OcqFQgEKg0IACoGCAowrqkBMKBFMMGBAg?hl=en-US&gl=US&ceid=US%3Aen\n",
            "\n",
            "./articles/CAIiEAC0-yl22QkZs2K1rcYAEn8qFwgEKg8IACoHCAowjuuKAzCWrzww9oEY?hl=en-US&gl=US&ceid=US%3Aen\n",
            "\n",
            "./articles/CAIiEAC0-yl22QkZs2K1rcYAEn8qFwgEKg8IACoHCAowjuuKAzCWrzww9oEY?hl=en-US&gl=US&ceid=US%3Aen\n",
            "\n",
            "./articles/CAIiELqFEgXiaZNsiwVZDVWOK3QqGAgEKg8IACoHCAowhK-LAjD4ySww7NG0BQ?hl=en-US&gl=US&ceid=US%3Aen\n",
            "\n",
            "./articles/CAIiELqFEgXiaZNsiwVZDVWOK3QqGAgEKg8IACoHCAowhK-LAjD4ySww7NG0BQ?hl=en-US&gl=US&ceid=US%3Aen\n",
            "\n",
            "./articles/CAIiEGsRoGHSUfQZJQHahezwkSUqGQgEKhAIACoHCAowjsP7CjCSpPQCMM_b5QU?hl=en-US&gl=US&ceid=US%3Aen\n",
            "\n",
            "./articles/CAIiEGsRoGHSUfQZJQHahezwkSUqGQgEKhAIACoHCAowjsP7CjCSpPQCMM_b5QU?hl=en-US&gl=US&ceid=US%3Aen\n",
            "\n",
            "./articles/CAIiEH2plBqZcRMfj8rZVw-2BOoqFggEKg0IACoGCAowm_EEMKAiMJXamQY?hl=en-US&gl=US&ceid=US%3Aen\n",
            "\n",
            "./articles/CAIiEH2plBqZcRMfj8rZVw-2BOoqFggEKg0IACoGCAowm_EEMKAiMJXamQY?hl=en-US&gl=US&ceid=US%3Aen\n",
            "\n",
            "./articles/CAIiEDhf_GzsFezANKhAzRrgZFoqGQgEKhAIACoHCAow9qOFCzDSvIIDMJq3xAY?hl=en-US&gl=US&ceid=US%3Aen\n",
            "\n",
            "./articles/CAIiEDhf_GzsFezANKhAzRrgZFoqGQgEKhAIACoHCAow9qOFCzDSvIIDMJq3xAY?hl=en-US&gl=US&ceid=US%3Aen\n",
            "\n",
            "./articles/CAIiED6rRh5yCYh713TaUeokOtsqGAgEKg8IACoHCAowhO7OATDh9CgwvaadAg?hl=en-US&gl=US&ceid=US%3Aen\n",
            "\n",
            "./articles/CAIiED6rRh5yCYh713TaUeokOtsqGAgEKg8IACoHCAowhO7OATDh9CgwvaadAg?hl=en-US&gl=US&ceid=US%3Aen\n",
            "\n",
            "./articles/CAIiENWDq2GSmi_N_RDryyQWeBgqGQgEKhAIACoHCAow2Nb3CjDivdcCMJ_d7gU?hl=en-US&gl=US&ceid=US%3Aen\n",
            "\n",
            "./articles/CAIiENWDq2GSmi_N_RDryyQWeBgqGQgEKhAIACoHCAow2Nb3CjDivdcCMJ_d7gU?hl=en-US&gl=US&ceid=US%3Aen\n",
            "\n",
            "./articles/CBMiSmh0dHBzOi8vd3d3LndpcmVkLmNvbS9zdG9yeS9ob3ctMzAtbGluZXMtb2YtY29kZS1ibGV3LXVwLTI3LXRvbi1nZW5lcmF0b3Iv0gFNaHR0cHM6Ly93d3cud2lyZWQuY29tL3N0b3J5L2hvdy0zMC1saW5lcy1vZi1jb2RlLWJsZXctdXAtMjctdG9uLWdlbmVyYXRvci9hbXA?hl=en-US&gl=US&ceid=US%3Aen\n",
            "\n",
            "./articles/CBMiSmh0dHBzOi8vd3d3LndpcmVkLmNvbS9zdG9yeS9ob3ctMzAtbGluZXMtb2YtY29kZS1ibGV3LXVwLTI3LXRvbi1nZW5lcmF0b3Iv0gFNaHR0cHM6Ly93d3cud2lyZWQuY29tL3N0b3J5L2hvdy0zMC1saW5lcy1vZi1jb2RlLWJsZXctdXAtMjctdG9uLWdlbmVyYXRvci9hbXA?hl=en-US&gl=US&ceid=US%3Aen\n",
            "\n",
            "./articles/CAIiEFqtm-t9ERK2CUdR4_9_Aq4qGQgEKhAIACoHCAow9Iv8CjDPxIgDMJiWzAU?hl=en-US&gl=US&ceid=US%3Aen\n",
            "\n",
            "./articles/CAIiEFqtm-t9ERK2CUdR4_9_Aq4qGQgEKhAIACoHCAow9Iv8CjDPxIgDMJiWzAU?hl=en-US&gl=US&ceid=US%3Aen\n",
            "\n",
            "./articles/CAIiEPGOY0x1awCq1YX4U1etEigqGQgEKhAIACoHCAow2Nb3CjDivdcCMJ_d7gU?hl=en-US&gl=US&ceid=US%3Aen\n",
            "\n",
            "./articles/CAIiEPGOY0x1awCq1YX4U1etEigqGQgEKhAIACoHCAow2Nb3CjDivdcCMJ_d7gU?hl=en-US&gl=US&ceid=US%3Aen\n",
            "\n",
            "./articles/CAIiENXIeKNqqWqs5kUsYDesjVMqFwgEKg8IACoHCAowjuuKAzCWrzwwxoIY?hl=en-US&gl=US&ceid=US%3Aen\n",
            "\n",
            "./articles/CAIiENXIeKNqqWqs5kUsYDesjVMqFwgEKg8IACoHCAowjuuKAzCWrzwwxoIY?hl=en-US&gl=US&ceid=US%3Aen\n",
            "\n",
            "./articles/CAIiEEO2kVQnuoe0oT5YtegEqNYqGAgEKg8IACoHCAow1tzJATDnyxUw_cfPBg?hl=en-US&gl=US&ceid=US%3Aen\n",
            "\n",
            "./articles/CAIiEEO2kVQnuoe0oT5YtegEqNYqGAgEKg8IACoHCAow1tzJATDnyxUw_cfPBg?hl=en-US&gl=US&ceid=US%3Aen\n",
            "\n",
            "./articles/CAIiEGkxkmEn5LOnYgeE9xAmQlIqGAgEKg8IACoHCAow-KLyCTDo8XIw6a7pBQ?hl=en-US&gl=US&ceid=US%3Aen\n",
            "\n",
            "./articles/CAIiEGkxkmEn5LOnYgeE9xAmQlIqGAgEKg8IACoHCAow-KLyCTDo8XIw6a7pBQ?hl=en-US&gl=US&ceid=US%3Aen\n",
            "\n",
            "./articles/CAIiEOAgGu0daIFwGuWrkcnzZfAqFwgEKg8IACoHCAowjuuKAzCWrzwwt4QY?hl=en-US&gl=US&ceid=US%3Aen\n",
            "\n",
            "./articles/CAIiEOAgGu0daIFwGuWrkcnzZfAqFwgEKg8IACoHCAowjuuKAzCWrzwwt4QY?hl=en-US&gl=US&ceid=US%3Aen\n",
            "\n",
            "./articles/CAIiEMeldn3-NwUsS4SnJ0LVRXYqGAgEKg8IACoHCAowiKPyCTD48XIwiM3ABg?hl=en-US&gl=US&ceid=US%3Aen\n",
            "\n",
            "./articles/CAIiEMeldn3-NwUsS4SnJ0LVRXYqGAgEKg8IACoHCAowiKPyCTD48XIwiM3ABg?hl=en-US&gl=US&ceid=US%3Aen\n",
            "\n",
            "./articles/CAIiEMKomhiCWGoUSThq-dotBEAqGQgEKhAIACoHCAow2Nb3CjDivdcCMMPf7gU?hl=en-US&gl=US&ceid=US%3Aen\n",
            "\n",
            "./articles/CAIiEMKomhiCWGoUSThq-dotBEAqGQgEKhAIACoHCAow2Nb3CjDivdcCMMPf7gU?hl=en-US&gl=US&ceid=US%3Aen\n"
          ],
          "name": "stdout"
        }
      ]
    },
    {
      "cell_type": "markdown",
      "metadata": {
        "id": "RKy-Hh9FbnJq"
      },
      "source": [
        "Now with this web scraper with Python, we can collect Google News headlines, the possibilities are endless. We can write a program to analyze the most used words in headlines. We can create a program to analyze stock sentiment and see if it correlates with the stock market.\n",
        "\n"
      ]
    },
    {
      "cell_type": "code",
      "metadata": {
        "id": "r0suwzdcbUJQ"
      },
      "source": [
        ""
      ],
      "execution_count": null,
      "outputs": []
    }
  ]
}